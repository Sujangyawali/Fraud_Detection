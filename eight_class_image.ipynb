{
  "nbformat": 4,
  "nbformat_minor": 0,
  "metadata": {
    "colab": {
      "name": "eight_class_image.ipynb",
      "provenance": [],
      "authorship_tag": "ABX9TyMPBB7bkA1K/PT/S6Y7Boim",
      "include_colab_link": true
    },
    "kernelspec": {
      "name": "python3",
      "display_name": "Python 3"
    }
  },
  "cells": [
    {
      "cell_type": "markdown",
      "metadata": {
        "id": "view-in-github",
        "colab_type": "text"
      },
      "source": [
        "<a href=\"https://colab.research.google.com/github/Sujangyawali/Fraud_Detection/blob/master/eight_class_image.ipynb\" target=\"_parent\"><img src=\"https://colab.research.google.com/assets/colab-badge.svg\" alt=\"Open In Colab\"/></a>"
      ]
    },
    {
      "cell_type": "code",
      "metadata": {
        "id": "pf_8x-YqOqJs"
      },
      "source": [
        "import warnings\r\n",
        "warnings.filterwarnings(\"ignore\")"
      ],
      "execution_count": null,
      "outputs": []
    },
    {
      "cell_type": "code",
      "metadata": {
        "id": "cF-xVRcFO3-k"
      },
      "source": [
        "!pip install keras==2.1.0 \r\n",
        "!pip install tensorflow==1.15.0"
      ],
      "execution_count": null,
      "outputs": []
    },
    {
      "cell_type": "code",
      "metadata": {
        "id": "fQum5Qb-O36g"
      },
      "source": [
        "!python setup.py install"
      ],
      "execution_count": null,
      "outputs": []
    },
    {
      "cell_type": "code",
      "metadata": {
        "id": "Hb1Tbr25O32_"
      },
      "source": [
        "import os \r\n",
        "import sys\r\n",
        "import random\r\n",
        "import math\r\n",
        "import numpy as np\r\n",
        "import cv2\r\n",
        "import matplotlib.pyplot as plt\r\n",
        "import json\r\n",
        "from imgaug import augmenters as iaa\r\n",
        "from tqdm import tqdm\r\n",
        "import pandas as pd \r\n",
        "import glob\r\n",
        "from imgaug import augmenters as iaa\r\n",
        "import scipy.misc\r\n",
        "import matplotlib"
      ],
      "execution_count": null,
      "outputs": []
    },
    {
      "cell_type": "code",
      "metadata": {
        "id": "A1nE7J7oO3zY"
      },
      "source": [
        "from keras.preprocessing.image import load_img\r\n",
        "from keras.preprocessing.image import img_to_array\r\n",
        "from mrcnn.visualize import display_instances\r\n",
        "from mrcnn.config import Config\r\n",
        "from mrcnn.model import MaskRCNN\r\n",
        "\r\n",
        "\r\n",
        "# define the test configuration\r\n",
        "class TestConfig(Config):\r\n",
        "     NAME = \"test\"\r\n",
        "     GPU_COUNT = 1\r\n",
        "     IMAGES_PER_GPU = 1\r\n",
        "     NUM_CLASSES = 9\r\n",
        "    \r\n",
        "# define 81 classes that the coco model knowns about\r\n",
        "class_names = ['BG', 'Fire_truck','Ambulance','hiace','bus','truck','car','jeep','bike']\r\n",
        "\r\n",
        "\r\n",
        "model = MaskRCNN(mode='inference', model_dir='./', config=TestConfig())\r\n",
        "#model.load_weights('D:\\\\projects\\\\desktop\\\\mask_rcnn_firetruck_cfg_0094.h5', by_name=True)\r\n",
        "\r\n",
        "#model.load_weights('D:\\\\projects\\\\automatic _traffic_system\\\\model\\\\6_13\\\\low_learning_rate_mask_rcnn_7vfiretruck_cfg_0008.h5', by_name=True)\r\n",
        "'''\r\n",
        "from folder 6\r\n",
        "1.low_learning_rate_mask_rcnn_7vfiretruck_cfg_0008.h5\r\n",
        "2.low_learning_rate_mask_rcnn_7vfiretruck_cfg_0005.h5\r\n",
        "3.heads_mask_rcnn_7vfiretruck_cfg_0004.h5\r\n",
        "4.best_of_low_learning_ratemask_rcnn_7vfiretruck_cfg_0007.h5\r\n",
        "'''\r\n",
        "\r\n",
        "\r\n"
      ],
      "execution_count": null,
      "outputs": []
    },
    {
      "cell_type": "code",
      "metadata": {
        "id": "XXVMweVdO3tp"
      },
      "source": [
        "model.load_weights('D:\\\\projects\\\\automatic _traffic_system\\\\models_for_eight_class\\\\mask_rcnn_eight_class_cfgh_0016.h5', by_name=True)"
      ],
      "execution_count": null,
      "outputs": []
    },
    {
      "cell_type": "code",
      "metadata": {
        "id": "Ah7L0t29PLrx"
      },
      "source": [
        "#for images\r\n",
        "\r\n",
        "# load coco model weights\r\n",
        "\r\n",
        "# load photograph\r\n",
        "#img = load_img('/kaggle/input/elephant/elephant.jpg')\r\n",
        "img = load_img('D:\\\\projects\\\\automatic _traffic_system\\\\picture\\\\download.jpg')\r\n",
        "\r\n",
        "img = img_to_array(img)\r\n",
        "# make prediction\r\n",
        "results = model.detect([img], verbose=0)\r\n",
        "# get dictionary for first prediction\r\n",
        "r = results[0]\r\n",
        "# show photo with bounding boxes, masks, class labels and scores\r\n",
        "display_instances(img, r['rois'], r['masks'], r['class_ids'], class_names, r['scores'])"
      ],
      "execution_count": null,
      "outputs": []
    },
    {
      "cell_type": "code",
      "metadata": {
        "id": "VcfGHrQkPLnx"
      },
      "source": [
        ""
      ],
      "execution_count": null,
      "outputs": []
    },
    {
      "cell_type": "code",
      "metadata": {
        "id": "d93gpCvdPLg0"
      },
      "source": [
        ""
      ],
      "execution_count": null,
      "outputs": []
    }
  ]
}