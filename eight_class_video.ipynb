{
  "nbformat": 4,
  "nbformat_minor": 0,
  "metadata": {
    "colab": {
      "name": "eight_class_video.ipynb",
      "provenance": [],
      "authorship_tag": "ABX9TyOB6geq6U5QsFpkeo05BpGz",
      "include_colab_link": true
    },
    "kernelspec": {
      "name": "python3",
      "display_name": "Python 3"
    }
  },
  "cells": [
    {
      "cell_type": "markdown",
      "metadata": {
        "id": "view-in-github",
        "colab_type": "text"
      },
      "source": [
        "<a href=\"https://colab.research.google.com/github/Sujangyawali/Fraud_Detection/blob/master/eight_class_video.ipynb\" target=\"_parent\"><img src=\"https://colab.research.google.com/assets/colab-badge.svg\" alt=\"Open In Colab\"/></a>"
      ]
    },
    {
      "cell_type": "code",
      "metadata": {
        "id": "f2GUUWuFPUCM"
      },
      "source": [
        "import warnings\r\n",
        "warnings.filterwarnings(\"ignore\")"
      ],
      "execution_count": null,
      "outputs": []
    },
    {
      "cell_type": "code",
      "metadata": {
        "id": "IHtxlGbQPg6I"
      },
      "source": [
        "!pip install keras==2.1.0 \r\n",
        "!pip install tensorflow==1.15.0"
      ],
      "execution_count": null,
      "outputs": []
    },
    {
      "cell_type": "code",
      "metadata": {
        "id": "ZhOqAynJPg3P"
      },
      "source": [
        "!python setup.py install"
      ],
      "execution_count": null,
      "outputs": []
    },
    {
      "cell_type": "code",
      "metadata": {
        "id": "FaGMbgnAPgzn"
      },
      "source": [
        "import os \r\n",
        "import sys\r\n",
        "import random\r\n",
        "import math\r\n",
        "import numpy as np\r\n",
        "import cv2\r\n",
        "import matplotlib.pyplot as plt\r\n",
        "import json\r\n",
        "from imgaug import augmenters as iaa\r\n",
        "from tqdm import tqdm\r\n",
        "import pandas as pd \r\n",
        "import glob\r\n",
        "from imgaug import augmenters as iaa\r\n",
        "import scipy.misc\r\n",
        "import matplotlib"
      ],
      "execution_count": null,
      "outputs": []
    },
    {
      "cell_type": "code",
      "metadata": {
        "id": "9pLlqIBLPgwg"
      },
      "source": [
        "from keras.preprocessing.image import load_img\r\n",
        "from keras.preprocessing.image import img_to_array\r\n",
        "from mrcnn.visualize import display_instances\r\n",
        "from mrcnn.config import Config\r\n",
        "from mrcnn.model import MaskRCNN\r\n",
        "\r\n",
        "\r\n",
        "# define the test configuration\r\n",
        "class TestConfig(Config):\r\n",
        "     NAME = \"test\"\r\n",
        "     GPU_COUNT = 1\r\n",
        "     IMAGES_PER_GPU = 1\r\n",
        "     NUM_CLASSES = 9\r\n",
        "    \r\n",
        "# define 81 classes that the coco model knowns about\r\n",
        "class_names = ['BG', 'Fire_truck','Ambulance','hiace','bus','truck','car','jeep','bike']\r\n",
        "\r\n",
        "\r\n",
        "model = MaskRCNN(mode='inference', model_dir='./', config=TestConfig())\r\n",
        "\r\n"
      ],
      "execution_count": null,
      "outputs": []
    },
    {
      "cell_type": "code",
      "metadata": {
        "id": "8K5CxU6pPgtA"
      },
      "source": [
        "model.load_weights('D:\\\\projects\\\\automatic _traffic_system\\\\models_for_eight_class\\\\mask_rcnn_eight_class_cfgh_0016.h5', by_name=True)"
      ],
      "execution_count": null,
      "outputs": []
    },
    {
      "cell_type": "code",
      "metadata": {
        "id": "gDN8yAJzPzVJ"
      },
      "source": [
        "import cv2\r\n",
        "import numpy as np\r\n",
        "\r\n",
        "\r\n",
        "def random_colors(N):\r\n",
        "    np.random.seed(1)\r\n",
        "    colors = [tuple(255 * np.random.rand(3)) for _ in range(N)]\r\n",
        "    return colors\r\n",
        "\r\n",
        "\r\n",
        "def apply_mask(image, mask, color, alpha=0.5):\r\n",
        "    \"\"\"apply mask to image\"\"\"\r\n",
        "    for n, c in enumerate(color):\r\n",
        "        image[:, :, n] = np.where(\r\n",
        "            mask == 1,\r\n",
        "            image[:, :, n] * (1 - alpha) + alpha * c,\r\n",
        "            image[:, :, n]\r\n",
        "        )\r\n",
        "    return image\r\n",
        "def display_instances(image, boxes, masks, ids, names, scores):\r\n",
        "    \"\"\"\r\n",
        "        take the image and results and apply the mask, box, and Label\r\n",
        "    \"\"\"\r\n",
        "    n_instances = boxes.shape[0]\r\n",
        "    colors = random_colors(n_instances)\r\n",
        "\r\n",
        "    if not n_instances:\r\n",
        "         print('NO INSTANCES TO DISPLAY')\r\n",
        "    else:\r\n",
        "        assert boxes.shape[0] == masks.shape[-1] == ids.shape[0]\r\n",
        "\r\n",
        "    for i, color in enumerate(colors):\r\n",
        "        if not np.any(boxes[i]):\r\n",
        "            continue\r\n",
        "\r\n",
        "        y1, x1, y2, x2 = boxes[i]\r\n",
        "        label = names[ids[i]]\r\n",
        "        score = scores[i] if scores is not None else None\r\n",
        "        caption = '{} {:.2f}'.format(label, score) if score else label\r\n",
        "        mask = masks[:, :, i]\r\n",
        "\r\n",
        "        image = apply_mask(image, mask, color)\r\n",
        "        image = cv2.rectangle(image, (x1, y1), (x2, y2), color, 2)\r\n",
        "        image = cv2.putText(\r\n",
        "            image, caption, (x1, y1), cv2.FONT_HERSHEY_COMPLEX, 0.7, color, 2\r\n",
        "        )\r\n",
        "\r\n",
        "    return image"
      ],
      "execution_count": null,
      "outputs": []
    },
    {
      "cell_type": "code",
      "metadata": {
        "id": "iNENVr1_PzRf"
      },
      "source": [
        "#for two lane \r\n",
        "\r\n",
        "\r\n",
        "\r\n",
        "\r\n",
        "def list_contains(List1, List2): \r\n",
        "  \r\n",
        "    set1 = set(List1) \r\n",
        "    set2 = set(List2) \r\n",
        "    if set1.intersection(set2): \r\n",
        "        return True \r\n",
        "    else: \r\n",
        "        return False\r\n",
        "\r\n",
        "import cv2 as cv\r\n",
        "cap = cv.VideoCapture('D:\\\\projects\\\\automatic _traffic_system\\\\picture\\\\ambulance1.mp4')\r\n",
        "cap1 = cv.VideoCapture('D:\\\\projects\\\\automatic _traffic_system\\\\picture\\\\woe2.mp4')\r\n",
        "\r\n",
        "size = (\r\n",
        "    int(cap.get(cv2.CAP_PROP_FRAME_WIDTH)),\r\n",
        "    int(cap.get(cv2.CAP_PROP_FRAME_HEIGHT))\r\n",
        ")\r\n",
        "\r\n",
        "\r\n",
        "codec = cv2.VideoWriter_fourcc(*'DIVX')\r\n",
        "\r\n",
        "#output1 = cv2.VideoWriter('D:\\projects\\automatic _traffic_system\\tomorrow\\\\1lane1.avi', codec, 1.0, size)\r\n",
        "#output2 = cv2.VideoWriter('D:\\projects\\automatic _traffic_system\\tomorrow\\\\1lane2.avi', codec, 1.0, size)\r\n",
        "\r\n",
        "\r\n",
        "\r\n",
        "if (cap.isOpened()== False):\r\n",
        "    print(\"Error camera 1 isn't connecting\")\r\n",
        "if (cap1.isOpened()== False):\r\n",
        "    print(\"Error camera 2 isn't connecting\")\r\n",
        "currentframe1=0\r\n",
        "currentframe2=0\r\n",
        "while (cap.isOpened() or cap1.isOpened()):\r\n",
        "    ret, img = cap.read()\r\n",
        "    ret1, img1 = cap1.read()\r\n",
        "    \r\n",
        "    if ret == True:\r\n",
        "        currentframe1 +=1\r\n",
        "        #print(currentframe1)\r\n",
        "        if ((currentframe1%30)==0):\r\n",
        "                results1 = model.detect([img], verbose=0)\r\n",
        "                r1 = results1[0]\r\n",
        "                img = display_instances(\r\n",
        "                img, r1['rois'], r1['masks'], r1['class_ids'], class_names, r1['scores'])\r\n",
        "                #output1.write(img)\r\n",
        "                #cv2.imshow('lane1',img )\r\n",
        "                print('lane1',r1['class_ids'])\r\n",
        "                class_ids1 = r1['class_ids']\r\n",
        "                emergency=[1,2]\r\n",
        "                if list_contains(class_ids1, emergency):\r\n",
        "                    print('Emergency vehicle detected')\r\n",
        "                    print('Green light is on for lane 1')\r\n",
        "                    continue\r\n",
        "                \r\n",
        "                else:\r\n",
        "                    density_of_lane1=len(class_ids1)\r\n",
        "                    print('Number of vehicle in lane 1:',len(class_ids1))\r\n",
        "               \r\n",
        "\r\n",
        "            \r\n",
        "                results2 = model.detect([img1], verbose=0)\r\n",
        "                r2 = results2[0]\r\n",
        "                img1 = display_instances(\r\n",
        "                img1, r2['rois'], r2['masks'], r2['class_ids'], class_names, r2['scores'])\r\n",
        "                #output2.write(img1)\r\n",
        "                #cv2.imshow('lane2', img1)\r\n",
        "                print('lane2',r2['class_ids'])\r\n",
        "                class_ids2 = r2['class_ids']\r\n",
        "                emergency=[1,2]\r\n",
        "                if list_contains(class_ids2, emergency):\r\n",
        "                    print('Emergency vehicle detected')\r\n",
        "                    print('Green light is on for lane 2')\r\n",
        "                    continue\r\n",
        "                    \r\n",
        "                else:\r\n",
        "                    density_of_lane2=len(class_ids2)\r\n",
        "                    print('Number of vehicle in lane 2:',len(class_ids2))\r\n",
        "                        \r\n",
        "                if (density_of_lane1>density_of_lane2):\r\n",
        "                    print('green light on for lane 1')\r\n",
        "                else:\r\n",
        "                    print('green light on for lane 2')\r\n",
        "                        \r\n",
        "                \r\n",
        "\r\n",
        "\r\n",
        "\r\n",
        "\r\n",
        "    if  cv.waitKey(1) & 0xFF == ord('q'):\r\n",
        "        break\r\n",
        "   \r\n",
        "\r\n",
        "\r\n",
        "cap.release()\r\n",
        "cap1.release()\r\n",
        "cv.destroyAllWindows()"
      ],
      "execution_count": null,
      "outputs": []
    },
    {
      "cell_type": "code",
      "metadata": {
        "id": "WwuzNzu7PzN_"
      },
      "source": [
        ""
      ],
      "execution_count": null,
      "outputs": []
    }
  ]
}